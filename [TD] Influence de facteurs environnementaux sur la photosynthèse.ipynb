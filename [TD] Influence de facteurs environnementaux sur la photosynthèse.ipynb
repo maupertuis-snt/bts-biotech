{
 "cells": [
  {
   "cell_type": "markdown",
   "metadata": {},
   "source": [
    "### Analyse de données de l’expédition Tara Océans (2009-2012) pour tenter de déterminer l’influence de facteurs environnementaux sur la photosynthèse\n",
    "### Problématique :\n",
    "Comment établir des relations entre des facteurs environnementaux et l’abondance des organismes photosynthétiques en utilisant des données d’échantillons prélevés dans différentes régions du globe?\n",
    "\n",
    "Après traitement et exploitation des données issues de prélèvements effectués lors de l’expédition **Tara Océans** (2009-2012), il s’agit de présenter les résultats pour montrer, à l’échelle du végétal, l’effet d’un facteur environnemental sur l’intensité de la photosynthèse.\n",
    "\n",
    "![Prélèvements d'échantillons](https://imgglb.padletcdn.com/v13/image?t=c_limit,dpr_1,h_654,w_1366&url=https%3A%2F%2Fpadlet-uploads.storage.googleapis.com%2F108257371%2F47530e390e5af5157aed9ed9ebdf6690%2FPhoto_collecte.jpeg) \"Prélèvement d'échantillons\"\n",
    "\n",
    "[![Le plancton](http://img.youtube.com/vi/saalOnwUbsw/0.jpg)](http://www.youtube.com/watch?v=saalOnwUbsw \"Le plancton\")\n",
    "\n",
    "Pour chaque région du globe (_Mer méditerranée (MS), Océan Pacifique Sud (SPO), Océan Indien (IO), Océan Atlantique Sud (SAO)_), vous allez tenter d’établir un lien entre l’abondance des diatomées (ou l’importance de la photosynthèse représenté par le taux de chlorophylle a) et chaque facteur environnemental.\n",
    "\n",
    "L'objectif de l'activité consiste à sélectionner, trier des données et construire des graphiques montrant l’abondance des diatomées (ou le taux de chlorophylle a) en fonction de chaque facteur environnemental (nitrates, phosphates, température, oxygène, salinité, profondeur). Nous allons utiliser **Python** pour réaliser les taches d'analyse des données recueillies par Tara, afin de les interpréter en un second temps. Nous allons exploiter les modules pandas, numpy, matplotlib et [seaborn](https://seaborn.pydata.org/introduction.html)."
   ]
  },
  {
   "cell_type": "code",
   "execution_count": null,
   "metadata": {},
   "outputs": [],
   "source": [
    "import pandas as pd\n",
    "import numpy as np\n",
    "import matplotlib.pyplot as plt\n",
    "import seaborn  # library for making statistical graphics in Python\n",
    "seaborn.set()"
   ]
  },
  {
   "cell_type": "markdown",
   "metadata": {},
   "source": [
    "Les données à étudier sont contenues dans le fichier \"***Données-diatomées.xlsx***\". Ces données sont chargées dans un _DataFrame_ (**df**)."
   ]
  },
  {
   "cell_type": "code",
   "execution_count": null,
   "metadata": {},
   "outputs": [],
   "source": [
    "df = pd.read_excel(\"Données-diatomées.xlsx\")\n",
    "type(df)"
   ]
  },
  {
   "cell_type": "markdown",
   "metadata": {},
   "source": [
    "Dimensions du DataFrame : nombre de lignes, nombre de colonnes."
   ]
  },
  {
   "cell_type": "code",
   "execution_count": null,
   "metadata": {},
   "outputs": [],
   "source": [
    "df.shape"
   ]
  },
  {
   "cell_type": "markdown",
   "metadata": {},
   "source": [
    "Aperçu du nom des séries de données contenues dans le DataFrame"
   ]
  },
  {
   "cell_type": "code",
   "execution_count": null,
   "metadata": {},
   "outputs": [],
   "source": [
    "df.keys()\n",
    "# print(df.columns)  # Enumération des colonnes"
   ]
  },
  {
   "cell_type": "markdown",
   "metadata": {},
   "source": [
    "Affichage les premières lignes du jeu de données"
   ]
  },
  {
   "cell_type": "code",
   "execution_count": null,
   "metadata": {},
   "outputs": [],
   "source": [
    "df.head()"
   ]
  },
  {
   "cell_type": "markdown",
   "metadata": {},
   "source": [
    "On affiche le type de chaque colonne"
   ]
  },
  {
   "cell_type": "code",
   "execution_count": null,
   "metadata": {},
   "outputs": [],
   "source": [
    "print(df.dtypes)"
   ]
  },
  {
   "cell_type": "markdown",
   "metadata": {},
   "source": [
    "Description des données"
   ]
  },
  {
   "cell_type": "code",
   "execution_count": null,
   "metadata": {},
   "outputs": [],
   "source": [
    "print(df.describe(include='all'))"
   ]
  },
  {
   "cell_type": "markdown",
   "metadata": {},
   "source": [
    "Calcul de la moyenne des concentrations en **phosphates**"
   ]
  },
  {
   "cell_type": "code",
   "execution_count": null,
   "metadata": {},
   "outputs": [],
   "source": [
    "df[\"Phosphates, PO4\"].mean()"
   ]
  },
  {
   "cell_type": "markdown",
   "metadata": {},
   "source": [
    "Calcul de la moyenne des concentrations en **phosphates** pour une masse d'eau \"DCM\" et une région \"MS\""
   ]
  },
  {
   "cell_type": "code",
   "execution_count": null,
   "metadata": {},
   "outputs": [],
   "source": [
    "# Mise en évidence des critères de sélection\n",
    "me = df[\"Masse d'eau\"].unique()\n",
    "re = df[\"Région\"].unique()\n",
    "print(me)\n",
    "print(re)\n",
    "\n",
    "df[(df[\"Masse d'eau\"] == \"DCM\")&(df[\"Région\"] == \"MS\")][\"Phosphates, PO4\"].mean()"
   ]
  },
  {
   "cell_type": "markdown",
   "metadata": {},
   "source": [
    "**Concentration en phosphates en fonction de la masse d'eau (DCM et SUR)**\n",
    "\n",
    "* _x --> concentration_\n",
    "* _y --> nombre de prélèvements_"
   ]
  },
  {
   "cell_type": "code",
   "execution_count": null,
   "metadata": {},
   "outputs": [],
   "source": [
    "%matplotlib inline\n",
    "df.hist(column=\"Phosphates, PO4\",by=\"Masse d'eau\")"
   ]
  },
  {
   "cell_type": "markdown",
   "metadata": {},
   "source": [
    "**Concentration en phosphates en fonction de la région (IO, MS, SAO, SPO)**\n",
    "\n",
    "* _x --> concentration_\n",
    "* _y --> nombre de prélèvements_"
   ]
  },
  {
   "cell_type": "code",
   "execution_count": null,
   "metadata": {},
   "outputs": [],
   "source": [
    "df.hist(column=\"Phosphates, PO4\",by=\"Région\")"
   ]
  },
  {
   "cell_type": "markdown",
   "metadata": {},
   "source": [
    "Quel est la quantité moyenne de Raphid-pennate (plancton) dans les différentes régions?\n",
    "![Raphid-pennate](http://tolweb.org/tree/ToLimages/cosmioneis_frustule.250a.jpg)"
   ]
  },
  {
   "cell_type": "code",
   "execution_count": null,
   "metadata": {},
   "outputs": [],
   "source": [
    "def moyenne_plancton(region,plancton):\n",
    "    groupe = df.groupby(\"Région\")\n",
    "    moyenne = groupe.get_group(region)[plancton].mean()\n",
    "    return (round(moyenne,2),region,plancton)\n",
    "\n",
    "moyenneRPIO = moyenne_plancton(\"IO\",\"Raphid-pennate\")\n",
    "moyenneRPMS = moyenne_plancton(\"MS\",\"Raphid-pennate\")\n",
    "moyenneRPSAO = moyenne_plancton(\"SAO\",\"Raphid-pennate\")\n",
    "moyenneRPSPO = moyenne_plancton(\"SPO\",\"Raphid-pennate\")\n",
    "print(\"En région\",moyenneRPIO[1],\"la quantité moyenne de\",moyenneRPIO[2],\"est\",moyenneRPIO[0])\n",
    "print(\"En région\",moyenneRPMS[1],\"la quantité moyenne de\",moyenneRPMS[2],\"est\",moyenneRPMS[0])\n",
    "print(\"En région\",moyenneRPSAO[1],\"la quantité moyenne de\",moyenneRPSAO[2],\"est\",moyenneRPSAO[0])\n",
    "print(\"En région\",moyenneRPSPO[1],\"la quantité moyenne de\",moyenneRPSPO[2],\"est\",moyenneRPSPO[0])"
   ]
  },
  {
   "cell_type": "markdown",
   "metadata": {},
   "source": [
    "Quelle est la concentration moyenne en phosphates dans les différentes régions?"
   ]
  },
  {
   "cell_type": "code",
   "execution_count": null,
   "metadata": {},
   "outputs": [],
   "source": [
    "moyennePIO = moyenne_plancton(\"IO\",\"Phosphates, PO4\")\n",
    "moyennePMS = moyenne_plancton(\"MS\",\"Phosphates, PO4\")\n",
    "moyennePSAO = moyenne_plancton(\"SAO\",\"Phosphates, PO4\")\n",
    "moyennePSPO = moyenne_plancton(\"SPO\",\"Phosphates, PO4\")\n",
    "print(\"En région\",moyennePIO[1],\"la quantité moyenne de\",moyennePIO[2],\"est\",moyennePIO[0])\n",
    "print(\"En région\",moyennePMS[1],\"la quantité moyenne de\",moyennePMS[2],\"est\",moyennePMS[0])\n",
    "print(\"En région\",moyennePSAO[1],\"la quantité moyenne de\",moyennePSAO[2],\"est\",moyennePSAO[0])\n",
    "print(\"En région\",moyennePSPO[1],\"la quantité moyenne de\",moyennePSPO[2],\"est\",moyennePSPO[0])"
   ]
  },
  {
   "cell_type": "markdown",
   "metadata": {},
   "source": [
    "Abondance moyenne en Raphid-pennate (plancton) en fonction de la concentration en phospates"
   ]
  },
  {
   "cell_type": "code",
   "execution_count": null,
   "metadata": {},
   "outputs": [],
   "source": [
    "y = [moyenneRPIO[0], moyenneRPMS[0], moyenneRPSAO[0], moyenneRPSPO[0]]\n",
    "x = [moyennePIO[0], moyennePMS[0], moyennePSAO[0], moyennePSPO[0]]\n",
    "print(x)\n",
    "print(y)\n",
    "plt.scatter(x,y)\n",
    "plt.show()"
   ]
  },
  {
   "cell_type": "markdown",
   "metadata": {},
   "source": [
    "Conclusion : possible relation de cause à effet entre la quantité de cette espèce plantonique et la concentration en phosphate."
   ]
  },
  {
   "cell_type": "markdown",
   "metadata": {},
   "source": [
    "## Activité\n",
    "**Exploitez les données recueillies (comme ci-dessus) pour d'autres espèces planctoniques. Arrive-t-on aux mêmes conclusions ?**"
   ]
  },
  {
   "cell_type": "markdown",
   "metadata": {},
   "source": [
    "Exemple choisi : Abondance de \"***xxxxxx***\" par rapport à la concentration en **phosphates**"
   ]
  },
  {
   "cell_type": "code",
   "execution_count": null,
   "metadata": {},
   "outputs": [],
   "source": []
  },
  {
   "cell_type": "code",
   "execution_count": null,
   "metadata": {},
   "outputs": [],
   "source": []
  },
  {
   "cell_type": "markdown",
   "metadata": {},
   "source": [
    "Conclusion : "
   ]
  },
  {
   "cell_type": "code",
   "execution_count": null,
   "metadata": {},
   "outputs": [],
   "source": []
  }
 ],
 "metadata": {
  "kernelspec": {
   "display_name": "Python 3",
   "language": "python",
   "name": "python3"
  },
  "language_info": {
   "codemirror_mode": {
    "name": "ipython",
    "version": 3
   },
   "file_extension": ".py",
   "mimetype": "text/x-python",
   "name": "python",
   "nbconvert_exporter": "python",
   "pygments_lexer": "ipython3",
   "version": "3.7.3"
  }
 },
 "nbformat": 4,
 "nbformat_minor": 2
}
